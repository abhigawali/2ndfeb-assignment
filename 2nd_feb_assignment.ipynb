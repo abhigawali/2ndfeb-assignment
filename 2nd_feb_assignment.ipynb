{
 "cells": [
  {
   "cell_type": "markdown",
   "id": "5efb8038-7d13-421a-8132-be54cc0be268",
   "metadata": {},
   "source": [
    "Q1"
   ]
  },
  {
   "cell_type": "markdown",
   "id": "4291fb6a-cbc9-405a-ae2c-5b26faaeced2",
   "metadata": {},
   "source": [
    "for = \"The 'for' loop is used when we already know the number of iterations, which means when we know how many times a statement has to be executed.\"\n",
    "            \"That is why we have to specify the ending point in the for loop initialization\".\n",
    "            \n",
    "            \n",
    "            \n",
    "while =\" A 'while' loop is used when the number of iterations is unknown. The statement repeats itself till the boolean value becomes false.\n",
    "             \"In a while loop, the condition is tested at the start, also known as the pre-test loop\".\n",
    "            \n",
    "            "
   ]
  },
  {
   "cell_type": "code",
   "execution_count": 6,
   "id": "23a5d275-5d14-4186-b5de-4801c61be8f7",
   "metadata": {},
   "outputs": [
    {
     "name": "stdout",
     "output_type": "stream",
     "text": [
      "a\n",
      "b\n",
      "h\n",
      "i\n"
     ]
    }
   ],
   "source": [
    "##eg of for loop\n",
    "name = \"abhi\"\n",
    "for i in name:\n",
    "    print(i)"
   ]
  },
  {
   "cell_type": "code",
   "execution_count": 7,
   "id": "f5949c13-482a-42de-9bf9-552ed5fa7dc3",
   "metadata": {},
   "outputs": [
    {
     "name": "stdout",
     "output_type": "stream",
     "text": [
      "abhi\n"
     ]
    }
   ],
   "source": [
    "## eg of while loop\n",
    "while True:\n",
    "    print(\"abhi\")\n",
    "    break"
   ]
  },
  {
   "cell_type": "code",
   "execution_count": null,
   "id": "398c75e6-3693-4648-8c0a-1b767cfc42d2",
   "metadata": {},
   "outputs": [],
   "source": [
    "Q2."
   ]
  },
  {
   "cell_type": "code",
   "execution_count": 17,
   "id": "e808213b-2767-4141-bcf2-16ef1a7e8244",
   "metadata": {},
   "outputs": [
    {
     "name": "stdout",
     "output_type": "stream",
     "text": [
      "1\n",
      "3\n",
      "6\n",
      "10\n",
      "15\n",
      "21\n",
      "28\n",
      "36\n",
      "45\n",
      "55\n"
     ]
    }
   ],
   "source": [
    "i=1\n",
    "a=0\n",
    "while i<=10:\n",
    "    n=a+i\n",
    "    a=n\n",
    "    i+=1\n",
    "    print(n)"
   ]
  },
  {
   "cell_type": "markdown",
   "id": "0fa5029c-ee1d-4a26-a64c-ec0bf1dc1553",
   "metadata": {},
   "source": [
    "Q.3"
   ]
  },
  {
   "cell_type": "code",
   "execution_count": 16,
   "id": "db29bec7-eae4-4c67-9564-566ebd1b4a0b",
   "metadata": {},
   "outputs": [
    {
     "name": "stdin",
     "output_type": "stream",
     "text": [
      "Enter you'r Units 310\n"
     ]
    },
    {
     "name": "stdout",
     "output_type": "stream",
     "text": [
      "e=450.0 | f=600 | g=1000 | h=200 | Total Cost of Units:- 2250.0\n"
     ]
    }
   ],
   "source": [
    "n=int(input(\"Enter you'r amount: \"))\n",
    "i=0\n",
    "charge=0\n",
    "count=0\n",
    "e=0\n",
    "f=0\n",
    "g=0\n",
    "h=0\n",
    "while i!=n:\n",
    "    i+=1\n",
    "    # print(i)\n",
    "    if i<=100:\n",
    "        charge=i*4.5\n",
    "        # print(i,charge)\n",
    "        if i==100:\n",
    "            e=charge\n",
    "            # print(A)\n",
    "        elif i<100:\n",
    "            e=charge\n",
    "            # print(A)\n",
    "        else:\n",
    "            pass\n",
    "    elif i<=200 and i>100:\n",
    "        charge=(i-100)*6\n",
    "        # print(i,charge)\n",
    "        if i==200:\n",
    "            f=charge\n",
    "            # print(B)\n",
    "        elif i<200 and i>100:\n",
    "            f=charge\n",
    "            # print(B)\n",
    "        else:\n",
    "            pass\n",
    "    elif i<=300 and i>200:\n",
    "        charge=(i-200)*10\n",
    "        # print(i,charge)\n",
    "        if i==300:\n",
    "            g=charge\n",
    "            # print(C)\n",
    "        elif i<300 and i>200:\n",
    "            g=charge\n",
    "            # print(C)\n",
    "        else:\n",
    "            pass\n",
    "    else:\n",
    "        charge=(i-300)*20\n",
    "        h=charge\n",
    "        # print(D)\n",
    "cost=e+f+g+h\n",
    "\n",
    "print(f\"e={e} | f={f} | g={g} | h={h} | Total Cost of Units:-\",cost)\n",
    "        "
   ]
  },
  {
   "cell_type": "markdown",
   "id": "dcd0f5d5-34b7-4a09-a98c-b826dab636d6",
   "metadata": {},
   "source": [
    "Q4."
   ]
  },
  {
   "cell_type": "code",
   "execution_count": 18,
   "id": "9372b0de-7320-4ce8-8d78-071d0f37b79d",
   "metadata": {},
   "outputs": [
    {
     "name": "stdout",
     "output_type": "stream",
     "text": [
      "20 [5, 10, 15, 20, 25, 30, 35, 40, 45, 50, 55, 60, 65, 70, 75, 80, 85, 90, 95, 100]\n",
      "25 [4, 8, 12, 16, 20, 24, 28, 32, 36, 40, 44, 48, 52, 56, 60, 64, 68, 72, 76, 80, 84, 88, 92, 96, 100]\n"
     ]
    }
   ],
   "source": [
    "cube=100\n",
    "four=[]\n",
    "five=[]\n",
    "for i in range(1,100+1):\n",
    "    if i%5==0 and i%4==0:\n",
    "        four.append(i)\n",
    "        five.append(i)\n",
    "    else:\n",
    "        if i%4==0:\n",
    "            four.append(i)\n",
    "        elif i%5==0:\n",
    "            five.append(i)\n",
    "        else:\n",
    "            pass\n",
    "print(len(five),five)\n",
    "print(len(four),four)\n"
   ]
  },
  {
   "cell_type": "code",
   "execution_count": null,
   "id": "129c1048-f4e8-4edd-9c4f-53842fdf3538",
   "metadata": {},
   "outputs": [],
   "source": [
    "Q5."
   ]
  },
  {
   "cell_type": "code",
   "execution_count": 19,
   "id": "67aec74b-fd86-4b5e-9934-589b036eb01e",
   "metadata": {},
   "outputs": [
    {
     "name": "stdout",
     "output_type": "stream",
     "text": [
      "12 ['I', 'A', 'O', 'E', 'O', 'E', 'A', 'A', 'A', 'I', 'E', 'I']\n"
     ]
    }
   ],
   "source": [
    "string = \"I want to become a data scientist\"\n",
    "vowels=\"AEIOU\"\n",
    "sort=[]\n",
    "for i in string.upper():\n",
    "    for j in vowels:\n",
    "        if i==j:\n",
    "            sort.append(i)\n",
    "print(len(sort),sort)\n"
   ]
  },
  {
   "cell_type": "code",
   "execution_count": null,
   "id": "4a767a89-6c07-4a9f-b49d-785b679c9216",
   "metadata": {},
   "outputs": [],
   "source": []
  }
 ],
 "metadata": {
  "kernelspec": {
   "display_name": "Python 3 (ipykernel)",
   "language": "python",
   "name": "python3"
  },
  "language_info": {
   "codemirror_mode": {
    "name": "ipython",
    "version": 3
   },
   "file_extension": ".py",
   "mimetype": "text/x-python",
   "name": "python",
   "nbconvert_exporter": "python",
   "pygments_lexer": "ipython3",
   "version": "3.10.8"
  }
 },
 "nbformat": 4,
 "nbformat_minor": 5
}
